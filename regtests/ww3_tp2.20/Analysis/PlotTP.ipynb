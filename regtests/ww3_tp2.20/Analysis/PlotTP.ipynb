{
 "cells": [
  {
   "cell_type": "markdown",
   "metadata": {},
   "source": [
    "# Grid-local tripolar closure figures\n",
    "### Author: Brandon Reichl\n",
    "### Origination : October 2018\n",
    "\n",
    "Required packages: netCDF4, numpy, matplotlib, cartopy"
   ]
  },
  {
   "cell_type": "code",
   "execution_count": 1,
   "metadata": {},
   "outputs": [],
   "source": [
    "import numpy as np\n",
    "import matplotlib.pyplot as plt\n",
    "import matplotlib.colors as colors\n",
    "import cartopy.crs as ccrs\n",
    "import cartopy as cart\n",
    "from cartopy.util import add_cyclic_point\n",
    "import netCDF4 as NC\n",
    "%matplotlib inline\n",
    "\n",
    "PRJCT = ccrs.NorthPolarStereo()\n",
    "\n",
    "def ChartGreatCirclePath(X0,Y0,Th0):\n",
    "    CG=30\n",
    "    d2r=np.pi/180\n",
    "    r2d=180/np.pi\n",
    "    X=[X0]\n",
    "    Y=[Y0]\n",
    "    Th=[Th0]\n",
    "    RE=6700000\n",
    "    dt=10\n",
    "    for ti in range(50000):\n",
    "        X0=X[-1]\n",
    "        Y0=Y[-1]\n",
    "        Th0=Th[-1]\n",
    "        Xdot = CG*np.sin(Th0*d2r) * (RE*np.cos(Y0*d2r))**(-1)*r2d\n",
    "        Ydot = CG*np.cos(Th0*d2r) * (RE)**(-1)*r2d\n",
    "        if (Y[-1]+Ydot*dt)>90:\n",
    "            Y.append(180-(Y0+Ydot*dt))\n",
    "            Th0=Th0-180;\n",
    "            X.append(X0+Xdot*dt-180)\n",
    "        elif (Y0+Ydot*dt)<-90:\n",
    "            Y.append(-180-(Y0+Ydot*dt))\n",
    "            Th0=Th0+180;\n",
    "            X.append(X0+Xdot*dt+180)\n",
    "        else:    \n",
    "            Y.append(Y0+Ydot*dt)\n",
    "            X.append(X0+Xdot*dt)\n",
    "\n",
    "        if X[-1]>180:\n",
    "            X[-1]-=360\n",
    "        Th.append(Th0+CG * np.sin(Th0*d2r) * np.tan(Y0*d2r) / RE *dt*r2d);\n",
    "    return X,Y,Th\n",
    "        "
   ]
  },
  {
   "cell_type": "code",
   "execution_count": null,
   "metadata": {},
   "outputs": [],
   "source": []
  },
  {
   "cell_type": "code",
   "execution_count": 2,
   "metadata": {},
   "outputs": [
    {
     "name": "stderr",
     "output_type": "stream",
     "text": [
      "/home/bgr/miniconda3/envs/Basemap/lib/python3.7/site-packages/matplotlib/tight_layout.py:176: UserWarning: Tight layout not applied. The left and right margins cannot be made large enough to accommodate all axes decorations. \n",
      "  warnings.warn('Tight layout not applied. The left and right margins '\n"
     ]
    },
    {
     "data": {
      "text/plain": [
       "Text(230, 80, 'maxHS=0.80')"
      ]
     },
     "execution_count": 2,
     "metadata": {},
     "output_type": "execute_result"
    },
    {
     "data": {
      "image/png": "[encoded data removed]",
      "text/plain": [
       "<Figure size 360x360 with 1 Axes>"
      ]
     },
     "metadata": {
      "needs_background": "light"
     },
     "output_type": "display_data"
    }
   ],
   "source": [
    "HNDL=NC.Dataset('../work/ww3.194801.nc')\n",
    "\n",
    "Xgc,Ygc,Thgc=ChartGreatCirclePath(150.,85.,0.)\n",
    "\n",
    "\n",
    "X0=np.array(HNDL['longitude'][:,:])\n",
    "Y0=np.array(HNDL['latitude'][:,:])\n",
    "HS = np.array(HNDL['hs'][:,:,:])\n",
    "HS[HS>100]=np.NaN\n",
    "\n",
    "bounds=np.arange(0,0.5,0.01)\n",
    "norm = colors.BoundaryNorm(boundaries=bounds,ncolors=256)\n",
    "\n",
    "fig=plt.figure(1,figsize=(5,5))\n",
    "ax1 = plt.subplot(1,1,1,projection=PRJCT)\n",
    "ax1.set_extent([-180, 180, 80, 90], crs=ccrs.PlateCarree())\n",
    "HSSwath1=np.max(HS,axis=0)\n",
    "CS1 = ax1.pcolormesh(X0[:,:],Y0[:,:],HSSwath1,cmap='Reds',vmin=np.min(bounds),vmax=np.max(bounds),\n",
    "                       transform=ccrs.PlateCarree(),zorder=0,norm=norm)\n",
    "CS1.cmap.set_under('white')\n",
    "ax1.plot(Xgc,Ygc,'c.',markersize=1,transform=ccrs.PlateCarree())\n",
    "ax1.plot(0,90,'g*',markersize=5,transform=ccrs.PlateCarree())\n",
    "plt.tight_layout()\n",
    "plt.text(230,80,'maxHS={:3.2f}'.format(np.nanmax(HSSwath1)),transform=ccrs.PlateCarree())"
   ]
  },
  {
   "cell_type": "code",
   "execution_count": null,
   "metadata": {},
   "outputs": [],
   "source": []
  }
 ],
 "metadata": {
  "kernelspec": {
   "display_name": "Basemap",
   "language": "python",
   "name": "basemap"
  },
  "language_info": {
   "codemirror_mode": {
    "name": "ipython",
    "version": 3
   },
   "file_extension": ".py",
   "mimetype": "text/x-python",
   "name": "python",
   "nbconvert_exporter": "python",
   "pygments_lexer": "ipython3",
   "version": "3.7.2"
  }
 },
 "nbformat": 4,
 "nbformat_minor": 2
}
